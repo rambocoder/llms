{
 "cells": [
  {
   "cell_type": "code",
   "execution_count": null,
   "id": "ac184c8d-60b5-4dfe-8b8d-15cf89559609",
   "metadata": {},
   "outputs": [],
   "source": [
    "%pip install transformers --upgrade\n",
    "%pip install bitsandbytes --upgrade\n",
    "%pip install accelerate --upgrade\n",
    "%pip install torch --upgrade\n",
    "%pip install torchvision --upgrade\n",
    "%pip install einops --upgrade\n",
    "%pip install better_profanity --upgrade\n",
    "%pip install xformers --upgrade"
   ]
  },
  {
   "cell_type": "code",
   "execution_count": null,
   "id": "29935e51-6c3e-4aaa-88c9-d33006a18ce5",
   "metadata": {},
   "outputs": [],
   "source": [
    "import torch\n",
    "from transformers import pipeline, BitsAndBytesConfig, AutoTokenizer\n",
    "\n",
    "# model_kwargs = {}\n",
    "\n",
    "# quantization_config = None\n",
    "# # optional quantization\n",
    "# quantization_config = BitsAndBytesConfig(\n",
    "#     load_in_8bit=True,\n",
    "#     llm_int8_threshold=6.0,\n",
    "# )\n",
    "# model_kwargs[\"quantization_config\"] = quantization_config\n",
    "\n",
    "tokenizer = AutoTokenizer.from_pretrained(\"/tmp/h2ogpt-oig-oasst1-falcon-40b\", padding_side=\"left\")\n",
    "generate_text = pipeline(model=\"/tmp/h2ogpt-oig-oasst1-falcon-40b\", \n",
    "                         tokenizer=tokenizer, \n",
    "                         torch_dtype=torch.bfloat16, \n",
    "                         trust_remote_code=True, \n",
    "                         device_map=\"auto\", \n",
    "                         # types of prompt https://huggingface.co/h2oai/h2ogpt-oig-oasst1-falcon-40b/blob/main/h2oai_pipeline.py#L228\n",
    "                         prompt_type=\"human_bot\"\n",
    "                         # model_kwargs=model_kwargs\n",
    "                        )\n"
   ]
  },
  {
   "cell_type": "code",
   "execution_count": null,
   "id": "4433fe4b-eea3-44e6-89c1-65dfece76b0e",
   "metadata": {},
   "outputs": [],
   "source": [
    "res = generate_text(\"<|prompt|>Answer as one number. 2+2=?<|endoftext|><|answer|>\", max_new_tokens=100)\n",
    "print(res)\n",
    "#print(res[0][\"generated_text\"])"
   ]
  },
  {
   "cell_type": "code",
   "execution_count": null,
   "id": "a87cad07-fc98-4a9b-9c4a-f4e2ad2e2b33",
   "metadata": {},
   "outputs": [],
   "source": [
    "res = generate_text(\"<|prompt|>Answer as one number. 2+2=?<|endoftext|><|answer|>4<|endoftext|><|prompt|>Double it<|endoftext|><|answer|>8<|endoftext|><|prompt|>Add 1 to it<|endoftext|><|answer|>\", max_new_tokens=100)\n",
    "print(res)\n",
    "print(res[0][\"generated_text\"])"
   ]
  }
 ],
 "metadata": {
  "kernelspec": {
   "display_name": "Python 3 (ipykernel)",
   "language": "python",
   "name": "python3"
  },
  "language_info": {
   "codemirror_mode": {
    "name": "ipython",
    "version": 3
   },
   "file_extension": ".py",
   "mimetype": "text/x-python",
   "name": "python",
   "nbconvert_exporter": "python",
   "pygments_lexer": "ipython3",
   "version": "3.9.16"
  }
 },
 "nbformat": 4,
 "nbformat_minor": 5
}
